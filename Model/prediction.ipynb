{
 "metadata": {
  "language_info": {
   "codemirror_mode": {
    "name": "ipython",
    "version": 3
   },
   "file_extension": ".py",
   "mimetype": "text/x-python",
   "name": "python",
   "nbconvert_exporter": "python",
   "pygments_lexer": "ipython3",
   "version": "3.9.1"
  },
  "orig_nbformat": 2,
  "kernelspec": {
   "name": "python391jvsc74a57bd0559daca3eafdbd1bef4f08433f5f56541036d82cc701707d10377dcc6e3b7299",
   "display_name": "Python 3.9.1 64-bit"
  }
 },
 "nbformat": 4,
 "nbformat_minor": 2,
 "cells": [
  {
   "cell_type": "code",
   "execution_count": 1,
   "metadata": {},
   "outputs": [],
   "source": [
    "import librosa\n",
    "import numpy as np\n",
    "import soundfile as sf\n",
    "import tensorflow as tf"
   ]
  },
  {
   "cell_type": "code",
   "execution_count": 2,
   "metadata": {},
   "outputs": [],
   "source": [
    "AUDIO_LENGTH = 64000\n",
    "MODEL = \"model.h5\"\n",
    "mapping = [\n",
    "            \"atas\",\n",
    "            \"bawah\",\n",
    "            \"kamu\",\n",
    "            \"kanan\",\n",
    "            \"kiri\",\n",
    "            \"maju\",\n",
    "            \"makan\",\n",
    "            \"minum\",\n",
    "            \"mundur\",\n",
    "            \"saya\"\n",
    "        ]"
   ]
  },
  {
   "cell_type": "code",
   "execution_count": 3,
   "metadata": {},
   "outputs": [],
   "source": [
    "def preprocess(file_path, num_mfcc=13, n_fft=2048, hop_length=512):\n",
    "        signal, sample_rate = librosa.load(file_path)     \n",
    "        if len(signal) >= AUDIO_LENGTH:\n",
    "            signal = signal[:AUDIO_LENGTH]\n",
    "            MFCCs = librosa.feature.mfcc(signal, sample_rate, n_mfcc=num_mfcc, n_fft=n_fft, hop_length=hop_length)\n",
    "        else:\n",
    "            signal1 = np.zeros((AUDIO_LENGTH,))\n",
    "            signal1[:signal.shape[0]] = signal\n",
    "            sf.write(file_path, signal1, sample_rate)\n",
    "            MFCCs = librosa.feature.mfcc(signal, sample_rate, n_mfcc=num_mfcc, n_fft=n_fft, hop_length=hop_length)\n",
    "        return MFCCs.T"
   ]
  },
  {
   "cell_type": "code",
   "execution_count": 4,
   "metadata": {},
   "outputs": [],
   "source": [
    "def predict(file_path):\n",
    "        model = tf.keras.models.load_model(\"model.h5\")\n",
    "        MFCCs = preprocess(file_path)\n",
    "        MFCCs = MFCCs[np.newaxis, ..., np.newaxis]\n",
    "        predictions = model.predict(MFCCs)\n",
    "        predicted_index = np.argmax(predictions)\n",
    "        predicted_keyword = mapping[predicted_index]\n",
    "        return predicted_keyword"
   ]
  },
  {
   "cell_type": "code",
   "execution_count": 5,
   "metadata": {},
   "outputs": [],
   "source": [
    "#To predict a word from a sound file, change the file_name to match the file name. File has to be in .wav.\n",
    "\n",
    "file_name = \"file_name.wav\"\n",
    "keyword = predict(file_name)\n",
    "print(keyword)"
   ]
  }
 ]
}
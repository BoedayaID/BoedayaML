{
 "metadata": {
  "language_info": {
   "codemirror_mode": {
    "name": "ipython",
    "version": 3
   },
   "file_extension": ".py",
   "mimetype": "text/x-python",
   "name": "python",
   "nbconvert_exporter": "python",
   "pygments_lexer": "ipython3",
   "version": "3.9.1"
  },
  "orig_nbformat": 2,
  "kernelspec": {
   "name": "python391jvsc74a57bd0559daca3eafdbd1bef4f08433f5f56541036d82cc701707d10377dcc6e3b7299",
   "display_name": "Python 3.9.1 64-bit"
  }
 },
 "nbformat": 4,
 "nbformat_minor": 2,
 "cells": [
  {
   "cell_type": "code",
   "execution_count": null,
   "metadata": {},
   "outputs": [],
   "source": [
    "import os\n",
    "import librosa\n",
    "import numpy as np\n",
    "import soundfile as sf"
   ]
  },
  {
   "cell_type": "code",
   "execution_count": null,
   "metadata": {},
   "outputs": [],
   "source": [
    "#Checking maximum and minimum length of dataset audio files\n",
    "\n",
    "DATASET_PATH = \"./Dataset/\"\n",
    "length = []\n",
    "for i, (dirpath, dirnames, filenames) in enumerate(os.walk(DATASET_PATH)):\n",
    "        if dirpath is not DATASET_PATH:\n",
    "            for f in filenames:\n",
    "                file_path = os.path.join(dirpath, f)\n",
    "                signal, sample_rate = librosa.load(file_path)\n",
    "                length.append([len(signal), f])\n",
    "print(max(length), min(length))"
   ]
  },
  {
   "cell_type": "code",
   "execution_count": null,
   "metadata": {
    "tags": []
   },
   "outputs": [],
   "source": [
    "#Trimming or padding audio files if necessary to match input from the application\n",
    "\n",
    "DATASET_PATH = \"./Dataset/\"\n",
    "AUDIO_LENGTH = 64000 #Length of input audio from the application\n",
    "length = []\n",
    "for i, (dirpath, dirnames, filenames) in enumerate(os.walk(DATASET_PATH)):\n",
    "        if dirpath is not DATASET_PATH:\n",
    "            for f in filenames:\n",
    "                file_path = dirpath+\"/\"+f\n",
    "                signal, sample_rate = librosa.load(file_path)\n",
    "                if len(signal) == AUDIO_LENGTH:\n",
    "                    print(file_path + \" OK\")\n",
    "                elif len(signal) < AUDIO_LENGTH:\n",
    "                    signal1 = np.zeros((AUDIO_LENGTH,))\n",
    "                    signal1[:signal.shape[0]] = signal\n",
    "                    print(\"Padding \", file_path)\n",
    "                    sf.write(file_path, signal1, sample_rate)\n",
    "                else:\n",
    "                    signal1 = signal[:AUDIO_LENGTH]\n",
    "                    print(\"Trimming \", file_path)\n",
    "                    sf.write(file_path, signal1, sample_rate)"
   ]
  }
 ]
}
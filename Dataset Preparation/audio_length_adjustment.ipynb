{
 "metadata": {
  "language_info": {
   "codemirror_mode": {
    "name": "ipython",
    "version": 3
   },
   "file_extension": ".py",
   "mimetype": "text/x-python",
   "name": "python",
   "nbconvert_exporter": "python",
   "pygments_lexer": "ipython3",
   "version": "3.9.1"
  },
  "orig_nbformat": 2,
  "kernelspec": {
   "name": "python391jvsc74a57bd0559daca3eafdbd1bef4f08433f5f56541036d82cc701707d10377dcc6e3b7299",
   "display_name": "Python 3.9.1 64-bit"
  }
 },
 "nbformat": 4,
 "nbformat_minor": 2,
 "cells": [
  {
   "cell_type": "code",
   "execution_count": 32,
   "metadata": {},
   "outputs": [],
   "source": [
    "import os\n",
    "import librosa\n",
    "import soundfile as sf"
   ]
  },
  {
   "cell_type": "code",
   "execution_count": 33,
   "metadata": {},
   "outputs": [
    {
     "output_type": "stream",
     "name": "stdout",
     "text": [
      "[64000, 'saya_6.wav'] [64000, 'atas_1.wav']\n"
     ]
    }
   ],
   "source": [
    "#Checking maximum and minimum length of dataset audio files\n",
    "\n",
    "DATASET_PATH = \"./Dataset/\"\n",
    "length = []\n",
    "for i, (dirpath, dirnames, filenames) in enumerate(os.walk(DATASET_PATH)):\n",
    "        if dirpath is not DATASET_PATH:\n",
    "            for f in filenames:\n",
    "                file_path = os.path.join(dirpath, f)\n",
    "                signal, sample_rate = librosa.load(file_path)\n",
    "                length.append([len(signal), f])\n",
    "print(max(length), min(length))"
   ]
  },
  {
   "cell_type": "code",
   "execution_count": 2,
   "metadata": {
    "tags": []
   },
   "outputs": [
    {
     "output_type": "stream",
     "name": "stdout",
     "text": [
      "./Dataset/atas/atas_1.wav\n./Dataset/atas/atas_1_add_noise.wav\n./Dataset/atas/atas_2.wav\n./Dataset/atas/atas_2_add_noise.wav\n./Dataset/atas/atas_3.wav\n./Dataset/atas/atas_3_add_noise.wav\n./Dataset/atas/atas_4.wav\n./Dataset/atas/atas_4_add_noise.wav\n./Dataset/atas/atas_5.wav\n./Dataset/atas/atas_5_add_noise.wav\n./Dataset/atas/atas_6.wav\n./Dataset/atas/atas_6_add_noise.wav\n./Dataset/bawah/bawah_1.wav\n./Dataset/bawah/bawah_1_add_noise.wav\n./Dataset/bawah/bawah_2.wav\n./Dataset/bawah/bawah_2_add_noise.wav\n./Dataset/bawah/bawah_3.wav\n./Dataset/bawah/bawah_3_add_noise.wav\n./Dataset/bawah/bawah_4.wav\n./Dataset/bawah/bawah_4_add_noise.wav\n./Dataset/bawah/bawah_5.wav\n./Dataset/bawah/bawah_5_add_noise.wav\n./Dataset/bawah/bawah_6.wav\n./Dataset/bawah/bawah_6_add_noise.wav\n./Dataset/kamu/kamu_1.wav\n./Dataset/kamu/kamu_1_add_noise.wav\n./Dataset/kamu/kamu_2.wav\n./Dataset/kamu/kamu_2_add_noise.wav\n./Dataset/kamu/kamu_3.wav\n./Dataset/kamu/kamu_3_add_noise.wav\n./Dataset/kamu/kamu_4.wav\n./Dataset/kamu/kamu_4_add_noise.wav\n./Dataset/kamu/kamu_5.wav\n./Dataset/kamu/kamu_5_add_noise.wav\n./Dataset/kamu/kamu_6.wav\n./Dataset/kamu/kamu_6_add_noise.wav\n./Dataset/kanan/kanan_1.wav\n./Dataset/kanan/kanan_1_add_noise.wav\n./Dataset/kanan/kanan_2.wav\n./Dataset/kanan/kanan_2_add_noise.wav\n./Dataset/kanan/kanan_3.wav\n./Dataset/kanan/kanan_3_add_noise.wav\n./Dataset/kanan/kanan_4.wav\n./Dataset/kanan/kanan_4_add_noise.wav\n./Dataset/kanan/kanan_5.wav\n./Dataset/kanan/kanan_5_add_noise.wav\n./Dataset/kanan/kanan_6.wav\n./Dataset/kanan/kanan_6_add_noise.wav\n./Dataset/kiri/kiri_1.wav\n./Dataset/kiri/kiri_1_add_noise.wav\n./Dataset/kiri/kiri_2.wav\n./Dataset/kiri/kiri_2_add_noise.wav\n./Dataset/kiri/kiri_3.wav\n./Dataset/kiri/kiri_3_add_noise.wav\n./Dataset/kiri/kiri_4.wav\n./Dataset/kiri/kiri_4_add_noise.wav\n./Dataset/kiri/kiri_5.wav\n./Dataset/kiri/kiri_5_add_noise.wav\n./Dataset/kiri/kiri_6.wav\n./Dataset/kiri/kiri_6_add_noise.wav\n./Dataset/maju/maju_1.wav\n./Dataset/maju/maju_1_add_noise.wav\n./Dataset/maju/maju_2.wav\n./Dataset/maju/maju_2_add_noise.wav\n./Dataset/maju/maju_3.wav\n./Dataset/maju/maju_3_add_noise.wav\n./Dataset/maju/maju_4.wav\n./Dataset/maju/maju_4_add_noise.wav\n./Dataset/maju/maju_5.wav\n./Dataset/maju/maju_5_add_noise.wav\n./Dataset/maju/maju_6.wav\n./Dataset/maju/maju_6_add_noise.wav\n./Dataset/makan/makan_1.wav\n./Dataset/makan/makan_1_add_noise.wav\n./Dataset/makan/makan_2.wav\n./Dataset/makan/makan_2_add_noise.wav\n./Dataset/makan/makan_3.wav\n./Dataset/makan/makan_3_add_noise.wav\n./Dataset/makan/makan_4.wav\n./Dataset/makan/makan_4_add_noise.wav\n./Dataset/makan/makan_5.wav\n./Dataset/makan/makan_5_add_noise.wav\n./Dataset/makan/makan_6.wav\n./Dataset/makan/makan_6_add_noise.wav\n./Dataset/minum/minum_1.wav\n./Dataset/minum/minum_1_add_noise.wav\n./Dataset/minum/minum_2.wav\n./Dataset/minum/minum_2_add_noise.wav\n./Dataset/minum/minum_3.wav\n./Dataset/minum/minum_3_add_noise.wav\n./Dataset/minum/minum_4.wav\n./Dataset/minum/minum_4_add_noise.wav\n./Dataset/minum/minum_5.wav\n./Dataset/minum/minum_5_add_noise.wav\n./Dataset/minum/minum_6.wav\n./Dataset/minum/minum_6_add_noise.wav\n./Dataset/mundur/mundur_1.wav\n./Dataset/mundur/mundur_1_add_noise.wav\n./Dataset/mundur/mundur_2.wav\n./Dataset/mundur/mundur_2_add_noise.wav\n./Dataset/mundur/mundur_3.wav\n./Dataset/mundur/mundur_3_add_noise.wav\n./Dataset/mundur/mundur_4.wav\n./Dataset/mundur/mundur_4_add_noise.wav\n./Dataset/mundur/mundur_5.wav\n./Dataset/mundur/mundur_5_add_noise.wav\n./Dataset/mundur/mundur_6.wav\n./Dataset/mundur/mundur_6_add_noise.wav\n./Dataset/saya/saya_1.wav\n./Dataset/saya/saya_1_add_noise.wav\n./Dataset/saya/saya_2.wav\n./Dataset/saya/saya_2_add_noise.wav\n./Dataset/saya/saya_3.wav\n./Dataset/saya/saya_3_add_noise.wav\n./Dataset/saya/saya_4.wav\n./Dataset/saya/saya_4_add_noise.wav\n./Dataset/saya/saya_5.wav\n./Dataset/saya/saya_5_add_noise.wav\n./Dataset/saya/saya_6.wav\n./Dataset/saya/saya_6_add_noise.wav\n"
     ]
    }
   ],
   "source": [
    "#Trimming or padding audio files if necessary to match input from the application\n",
    "\n",
    "DATASET_PATH = \"./Dataset/\"\n",
    "AUDIO_LENGTH = 64000 #Length of input audio from the application\n",
    "length = []\n",
    "for i, (dirpath, dirnames, filenames) in enumerate(os.walk(DATASET_PATH)):\n",
    "        if dirpath is not DATASET_PATH:\n",
    "            for f in filenames:\n",
    "                file_path = dirpath+\"/\"+f\n",
    "                signal, sample_rate = librosa.load(file_path)\n",
    "                if len(signal) == AUDIO_LENGTH:\n",
    "                    print(file_path + \" OK\")\n",
    "                elif len(signal) < AUDIO_LENGTH:\n",
    "                    signal1 = np.zeros((AUDIO_LENGTH,))\n",
    "                    signal1[:signal.shape[0]] = signal\n",
    "                    print(\"Padding \", file_path)\n",
    "                    sf.write(file_path, signal1, sample_rate)\n",
    "                else:\n",
    "                    signal1 = signal[:AUDIO_LENGTH]\n",
    "                    print(\"Trimming \", file_path)\n",
    "                    sf.write(file_path, signal1, sample_rate)"
   ]
  }
 ]
}
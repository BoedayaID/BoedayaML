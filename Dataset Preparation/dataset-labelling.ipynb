{
 "metadata": {
  "language_info": {
   "codemirror_mode": {
    "name": "ipython",
    "version": 3
   },
   "file_extension": ".py",
   "mimetype": "text/x-python",
   "name": "python",
   "nbconvert_exporter": "python",
   "pygments_lexer": "ipython3",
   "version": "3.9.1"
  },
  "orig_nbformat": 2,
  "kernelspec": {
   "name": "python391jvsc74a57bd0559daca3eafdbd1bef4f08433f5f56541036d82cc701707d10377dcc6e3b7299",
   "display_name": "Python 3.9.1 64-bit"
  }
 },
 "nbformat": 4,
 "nbformat_minor": 2,
 "cells": [
  {
   "cell_type": "code",
   "execution_count": null,
   "metadata": {},
   "outputs": [],
   "source": [
    "import json\n",
    "import librosa\n",
    "import os"
   ]
  },
  {
   "cell_type": "code",
   "execution_count": null,
   "metadata": {},
   "outputs": [],
   "source": [
    "DATASET_PATH = \"./Dataset/\""
   ]
  },
  {
   "cell_type": "code",
   "execution_count": null,
   "metadata": {},
   "outputs": [],
   "source": [
    "def preprocess(dataset_path, num_mfcc=13, n_fft=2048, hop_length=512):\n",
    "    #Dictionary to store audio file details\n",
    "    data = {\n",
    "        'mapping': [],\n",
    "        'labels': [],\n",
    "        'MFCCs': [],\n",
    "        'files': [],\n",
    "    }\n",
    "    for i, (dirpath, dirnames, filenames) in enumerate(os.walk(dataset_path)):\n",
    "        if dirpath is not dataset_path:\n",
    "            label = dirpath.split('/')[-1]\n",
    "            data['mapping'].append(label)\n",
    "            for f in filenames:\n",
    "                file_path = dirpath+\"/\"+f\n",
    "                signal, sr = librosa.load(file_path)\n",
    "                MFCCs = librosa.feature.mfcc(signal, sr, n_mfcc=num_mfcc, n_fft=n_fft, hop_length=hop_length)\n",
    "                data['MFCCs'].append(MFCCs.T.tolist())\n",
    "                data['labels'].append(i-1)\n",
    "                data['files'].append(file_path)\n",
    "                print(file_path)\n",
    "    with open(\"dataset.json\", \"w\") as fp:\n",
    "        json.dump(data, fp, indent=4)"
   ]
  },
  {
   "cell_type": "code",
   "execution_count": null,
   "metadata": {
    "tags": []
   },
   "outputs": [],
   "source": [
    "preprocess(DATASET_PATH)"
   ]
  }
 ]
}
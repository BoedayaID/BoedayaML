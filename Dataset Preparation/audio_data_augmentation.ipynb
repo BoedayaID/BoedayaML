{
  "nbformat": 4,
  "nbformat_minor": 0,
  "metadata": {
    "colab": {
      "name": "audio data augmentation.ipynb",
      "provenance": []
    },
    "kernelspec": {
      "name": "python391jvsc74a57bd0559daca3eafdbd1bef4f08433f5f56541036d82cc701707d10377dcc6e3b7299",
      "display_name": "Python 3.9.1 64-bit"
    },
    "language_info": {
      "name": "python",
      "version": "3.9.1"
    }
  },
  "cells": [
    {
      "cell_type": "code",
      "metadata": {
        "colab": {
          "base_uri": "https://localhost:8080/",
          "height": 75
        },
        "id": "opBayPROAw3J",
        "outputId": "c64ca212-9494-4832-896b-87a1712aff4e"
      },
      "source": [
        "import librosa\n",
        "import soundfile as sf\n",
        "import numpy as np\n",
        "import os"
      ],
      "execution_count": 55,
      "outputs": []
    },
    {
      "cell_type": "code",
      "execution_count": 54,
      "metadata": {},
      "outputs": [],
      "source": [
        "#Defining the augmenting function\n",
        "\n",
        "def augment(file_path):\n",
        "    root_folder = file_path.split(\"/\")[1]\n",
        "    folder = file_path.split(\"/\")[2]\n",
        "    file_name = file_path.split(\"/\")[3][:-4]    \n",
        "    wav, sr = librosa.load(file_path, sr=None)\n",
        "    \n",
        "    # Noise Addition\n",
        "    wav_n = wav + 0.009*np.random.normal(0,1,len(wav))\n",
        "    sf.write('./{}/{}/{}_add_noise.wav'.format(root_folder, folder, file_name), wav_n,sr)"
      ]
    },
    {
      "cell_type": "code",
      "execution_count": 52,
      "metadata": {},
      "outputs": [
        {
          "output_type": "stream",
          "name": "stdout",
          "text": [
            "Augmenting  ./Dataset/atas/atas_1.wav\n",
            "Augmenting  ./Dataset/atas/atas_2.wav\n",
            "Augmenting  ./Dataset/atas/atas_3.wav\n",
            "Augmenting  ./Dataset/atas/atas_4.wav\n",
            "Augmenting  ./Dataset/atas/atas_5.wav\n",
            "Augmenting  ./Dataset/atas/atas_6.wav\n",
            "Augmenting  ./Dataset/bawah/bawah_1.wav\n",
            "Augmenting  ./Dataset/bawah/bawah_2.wav\n",
            "Augmenting  ./Dataset/bawah/bawah_3.wav\n",
            "Augmenting  ./Dataset/bawah/bawah_4.wav\n",
            "Augmenting  ./Dataset/bawah/bawah_5.wav\n",
            "Augmenting  ./Dataset/bawah/bawah_6.wav\n",
            "Augmenting  ./Dataset/kamu/kamu_1.wav\n",
            "Augmenting  ./Dataset/kamu/kamu_2.wav\n",
            "Augmenting  ./Dataset/kamu/kamu_3.wav\n",
            "Augmenting  ./Dataset/kamu/kamu_4.wav\n",
            "Augmenting  ./Dataset/kamu/kamu_5.wav\n",
            "Augmenting  ./Dataset/kamu/kamu_6.wav\n",
            "Augmenting  ./Dataset/kanan/kanan_1.wav\n",
            "Augmenting  ./Dataset/kanan/kanan_2.wav\n",
            "Augmenting  ./Dataset/kanan/kanan_3.wav\n",
            "Augmenting  ./Dataset/kanan/kanan_4.wav\n",
            "Augmenting  ./Dataset/kanan/kanan_5.wav\n",
            "Augmenting  ./Dataset/kanan/kanan_6.wav\n",
            "Augmenting  ./Dataset/kiri/kiri_1.wav\n",
            "Augmenting  ./Dataset/kiri/kiri_2.wav\n",
            "Augmenting  ./Dataset/kiri/kiri_3.wav\n",
            "Augmenting  ./Dataset/kiri/kiri_4.wav\n",
            "Augmenting  ./Dataset/kiri/kiri_5.wav\n",
            "Augmenting  ./Dataset/kiri/kiri_6.wav\n",
            "Augmenting  ./Dataset/maju/maju_1.wav\n",
            "Augmenting  ./Dataset/maju/maju_2.wav\n",
            "Augmenting  ./Dataset/maju/maju_3.wav\n",
            "Augmenting  ./Dataset/maju/maju_4.wav\n",
            "Augmenting  ./Dataset/maju/maju_5.wav\n",
            "Augmenting  ./Dataset/maju/maju_6.wav\n",
            "Augmenting  ./Dataset/makan/makan_1.wav\n",
            "Augmenting  ./Dataset/makan/makan_2.wav\n",
            "Augmenting  ./Dataset/makan/makan_3.wav\n",
            "Augmenting  ./Dataset/makan/makan_4.wav\n",
            "Augmenting  ./Dataset/makan/makan_5.wav\n",
            "Augmenting  ./Dataset/makan/makan_6.wav\n",
            "Augmenting  ./Dataset/minum/minum_1.wav\n",
            "Augmenting  ./Dataset/minum/minum_2.wav\n",
            "Augmenting  ./Dataset/minum/minum_3.wav\n",
            "Augmenting  ./Dataset/minum/minum_4.wav\n",
            "Augmenting  ./Dataset/minum/minum_5.wav\n",
            "Augmenting  ./Dataset/minum/minum_6.wav\n",
            "Augmenting  ./Dataset/mundur/mundur_1.wav\n",
            "Augmenting  ./Dataset/mundur/mundur_2.wav\n",
            "Augmenting  ./Dataset/mundur/mundur_3.wav\n",
            "Augmenting  ./Dataset/mundur/mundur_4.wav\n",
            "Augmenting  ./Dataset/mundur/mundur_5.wav\n",
            "Augmenting  ./Dataset/mundur/mundur_6.wav\n",
            "Augmenting  ./Dataset/saya/saya_1.wav\n",
            "Augmenting  ./Dataset/saya/saya_2.wav\n",
            "Augmenting  ./Dataset/saya/saya_3.wav\n",
            "Augmenting  ./Dataset/saya/saya_4.wav\n",
            "Augmenting  ./Dataset/saya/saya_5.wav\n",
            "Augmenting  ./Dataset/saya/saya_6.wav\n"
          ]
        }
      ],
      "source": [
        "#Augmenting all the audio files\n",
        "\n",
        "DEST_DIR = \"./Dataset/\"\n",
        "dirs = ['atas', 'bawah', 'kamu', 'kanan', 'kiri', 'maju', 'makan', 'minum', 'mundur', 'saya']\n",
        "\n",
        "for folder in dirs:\n",
        "    files = os.listdir(DEST_DIR+folder)\n",
        "    for file in files:\n",
        "        file_path = \"{}{}/{}\".format(DEST_DIR, folder, file)\n",
        "        print(\"Augmenting \", file_path)\n",
        "        augment(file_path)"
      ]
    }
  ]
}
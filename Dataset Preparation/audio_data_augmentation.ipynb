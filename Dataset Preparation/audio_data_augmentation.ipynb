{
  "nbformat": 4,
  "nbformat_minor": 0,
  "metadata": {
    "colab": {
      "name": "audio data augmentation.ipynb",
      "provenance": []
    },
    "kernelspec": {
      "name": "python391jvsc74a57bd0559daca3eafdbd1bef4f08433f5f56541036d82cc701707d10377dcc6e3b7299",
      "display_name": "Python 3.9.1 64-bit"
    },
    "language_info": {
      "name": "python",
      "version": "3.9.1"
    }
  },
  "cells": [
    {
      "cell_type": "code",
      "metadata": {
        "colab": {
          "base_uri": "https://localhost:8080/",
          "height": 75
        },
        "id": "opBayPROAw3J",
        "outputId": "c64ca212-9494-4832-896b-87a1712aff4e"
      },
      "source": [
        "import librosa\n",
        "import soundfile as sf\n",
        "import numpy as np\n",
        "import os"
      ],
      "execution_count": null,
      "outputs": []
    },
    {
      "cell_type": "code",
      "execution_count": null,
      "metadata": {},
      "outputs": [],
      "source": [
        "#Defining the augmenting function\n",
        "\n",
        "def augment(file_path):\n",
        "    root_folder = file_path.split(\"/\")[1]\n",
        "    folder = file_path.split(\"/\")[2]\n",
        "    file_name = file_path.split(\"/\")[3][:-4]    \n",
        "    wav, sr = librosa.load(file_path, sr=None)\n",
        "    \n",
        "    n0 = -3\n",
        "    n1 = 1\n",
        "    n2 = -1\n",
        "    n3 = 2\n",
        "    n4 = -2\n",
        "\n",
        "    # Noise Addition\n",
        "    wav_n = wav + 0.009*np.random.normal(0,1,len(wav))\n",
        "    sf.write('./{}/{}/{}_add_noise.wav'.format(root_folder, folder, file_name), wav_n,sr)\n",
        "\n",
        "    # Pitch shifting step = n0\n",
        "    wav_pitch_sf = librosa.effects.pitch_shift(wav, sr, n_steps=n0)\n",
        "    sf.write('./{}/{}/{}_pitch_shift_{}.wav'.format(root_folder, folder, file_name, str(n0)), wav_pitch_sf,sr)\n",
        "\n",
        "    # Pitch shifting step = n1\n",
        "    wav_pitch_sf = librosa.effects.pitch_shift(wav, sr, n_steps=n1)\n",
        "    sf.write('./{}/{}/{}_pitch_shift_{}.wav'.format(root_folder, folder, file_name, str(n1)), wav_pitch_sf,sr)\n",
        "\n",
        "    # Pitch shifting step =n2\n",
        "    wav_pitch_sf = librosa.effects.pitch_shift(wav,sr,n_steps=n2)\n",
        "    sf.write('./{}/{}/{}_pitch_shift_{}.wav'.format(root_folder, folder, file_name, str(n2)), wav_pitch_sf,sr)\n",
        "\n",
        "    # Pitch shifting step = n3\n",
        "    wav_pitch_sf = librosa.effects.pitch_shift(wav,sr,n_steps=n3)\n",
        "    sf.write('./{}/{}/{}_pitch_shift_{}.wav'.format(root_folder, folder, file_name, str(n3)), wav_pitch_sf,sr)\n",
        "\n",
        "    # Pitch shifting step = n4\n",
        "    wav_pitch_sf = librosa.effects.pitch_shift(wav,sr,n_steps=n4)\n",
        "    sf.write('./{}/{}/{}_pitch_shift_{}.wav'.format(root_folder, folder, file_name, str(n4)), wav_pitch_sf,sr)"
      ]
    },
    {
      "cell_type": "code",
      "execution_count": null,
      "metadata": {},
      "outputs": [],
      "source": [
        "#Augmenting all the audio files (should only be done once)\n",
        "\n",
        "DEST_DIR = \"./Dataset/\"\n",
        "dirs = ['atas', 'bawah', 'kamu', 'kanan', 'kiri', 'maju', 'makan', 'minum', 'mundur', 'saya']\n",
        "\n",
        "for folder in dirs:\n",
        "    files = os.listdir(DEST_DIR+folder)\n",
        "    for file in files:\n",
        "        file_path = \"{}{}/{}\".format(DEST_DIR, folder, file)\n",
        "        print(\"Augmenting \", file_path)\n",
        "        augment(file_path)"
      ]
    }
  ]
}